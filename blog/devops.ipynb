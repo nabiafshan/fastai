{
 "cells": [
  {
   "cell_type": "markdown",
   "metadata": {},
   "source": [
    "# Tools for new repo"
   ]
  },
  {
   "cell_type": "markdown",
   "metadata": {},
   "source": [
    "## Poetry \n",
    "\n",
    "[https://python-poetry.org/docs/](https://python-poetry.org/docs/)\n",
    "\n",
    "* For managing packages and dependencies: *It allows you to declare the libraries your project depends on and it will manage (install/update) them for you.*\n",
    "\n",
    "* Here's a good [getting started with poetry video](https://www.youtube.com/watch?v=Ib7fNOIGM7E)  \n",
    "  * Installation\n",
    "  * Add to PATH\n",
    "  * Create python project with poetry\n",
    "  * Activate poetry virtual env (creates virtual envs by default, [poetry env management](https://python-poetry.org/docs/managing-environments/))\n",
    "\n",
    "* Some commands\n",
    "  * `poetry new my_project` creates directory with starter files\n",
    "  * `poetry add pandas`\n",
    "  * `poetry remove pandas`\n",
    "  * `poetry install` install all the packages, creates the `poetry.lock` file the 1st time it's run or installs the versions defined in `poetry.lock` if it already exists (not the latest versions)\n",
    "  * `poetry show --tree` \n",
    "\n",
    "*  Dependencies can be organized into groups, e.g. `dev`, `test` etc.\n",
    "   *  e.g. `poetry add pytest --group test` adds pytest to the `test` group of dependencies\n",
    "*  Then you can only install specific dependencies groups: \n",
    "   *  `poetry install --without test,docs`\n",
    "   *  `poetry install --with docs`\n",
    "   *  `poetry install --only main` only install runtime dependencies\n",
    "\n",
    "* all poetry commands are documented here: [https://python-poetry.org/docs/cli/](https://python-poetry.org/docs/cli/)\n",
    "* pre-commit hooks: [https://python-poetry.org/docs/pre-commit-hooks/](https://python-poetry.org/docs/pre-commit-hooks/)"
   ]
  },
  {
   "cell_type": "markdown",
   "metadata": {},
   "source": [
    "## Pre-commit \n",
    "\n",
    "[https://pre-commit.com/](https://pre-commit.com/)\n",
    "\n",
    "* Run on every commit, identify style related issues (trailing whitespace, missing semi-colons...) before the code is committed. Free up the reviewer focus on architecture.\n",
    "  * *A framework for managing and maintaining multi-language pre-commit hooks*\n",
    "  * This is a good video on [getting started with pre-commit](https://www.youtube.com/watch?v=psjz6rwzMdk)\n",
    "\n",
    "* Quick start:\n",
    "  * install\n",
    "  * create a `.pre-commit-config.yaml`. This describes the hooks and repositories to install.\n",
    "  * `pre-commit install`. This installs pre-commit into your git hooks. After this, pre-commit will run on every commit. \n",
    "    * *Every time you clone a project using pre-commit running `pre-commit install` should always be the first thing you do.*\n",
    "\n",
    "  * run against all pre-commit hooks on all files using: `pre-commit run --all-files`\n",
    "    * `pre-commit run black` to run only black\n",
    "    * this causes changes to files, so you need to `git add` the files again, and then re-commit. If you don't like the changes made, `git restore` to go back.\n",
    "\n",
    "* Structure and contents of the `.pre-commit-config.yaml` file: \n",
    "  * [https://pre-commit.com/#plugins](https://pre-commit.com/#plugins)\n",
    "\n",
    "* All pre-commit commands [https://pre-commit.com/#cli](https://pre-commit.com/#cli)\n",
    "* Other useful things you can do:\n",
    "  * temporarily disable hooks\n",
    "  * run hooks on different stages, e.g. on commit, or on merge, or on push\n",
    "  * [https://pre-commit.com/#advanced](https://pre-commit.com/#advanced)\n",
    "\n",
    "* tons of hooks have been written: \n",
    "  * e.g. `trailing-whitespace`, `detect-aws-credentials`, `check-added-large-files`\n",
    "  * you add these to your `.pre-commit-config.yaml` file under the pre-commit repo, like so\n",
    "```\n",
    "  - repo: 'https://github.com/pre-commit/pre-commit-hooks'\n",
    "    rev: v4.4.0\n",
    "    hooks:\n",
    "      - id: trailing-whitespace\n",
    "      - id: end-of-file-fixer\n",
    "      - id: detect-aws-credentials\n",
    "      - id: check-added-large-files\n",
    "```\n",
    "  * [https://pre-commit.com/hooks.html](https://pre-commit.com/hooks.html)\n",
    "\n",
    "### Git hooks\n",
    "\n",
    "* pre-commit works because git has the notion of hooks\n",
    "  * hooks are scripts that run when you perform an action like commit, push or pull\n",
    "  * this info is stored in the `.git/hooks` folder inside a dir \n",
    "  * pre-commit's `.pre-commit-config.yaml` basically describes what hooks to run, and when you run `pre-commit install` pre-commit makes corresponding changes the contents of the `.git/hooks` folder"
   ]
  },
  {
   "cell_type": "markdown",
   "metadata": {},
   "source": [
    "# Linters\n",
    "\n",
    "## flake8\n",
    "\n",
    "[https://flake8.pycqa.org/en/latest/#](https://flake8.pycqa.org/en/latest/#)\n",
    "\n"
   ]
  }
 ],
 "metadata": {
  "language_info": {
   "name": "python"
  },
  "orig_nbformat": 4
 },
 "nbformat": 4,
 "nbformat_minor": 2
}
