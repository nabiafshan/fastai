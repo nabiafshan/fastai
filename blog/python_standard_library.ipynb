{
 "cells": [
  {
   "cell_type": "markdown",
   "metadata": {},
   "source": [
    "# The Python Standard Library"
   ]
  },
  {
   "cell_type": "markdown",
   "metadata": {},
   "source": [
    "## File and directory access"
   ]
  },
  {
   "cell_type": "markdown",
   "metadata": {},
   "source": [
    "### `glob`"
   ]
  },
  {
   "cell_type": "markdown",
   "metadata": {},
   "source": [
    "[python.org docs](https://docs.python.org/3/library/glob.html)\n",
    "\n",
    "[Video tutorial](https://www.youtube.com/watch?v=tATFQUx0Zx0)"
   ]
  },
  {
   "cell_type": "markdown",
   "metadata": {},
   "source": [
    "List of useful `glob` rules:"
   ]
  },
  {
   "cell_type": "code",
   "execution_count": null,
   "metadata": {},
   "outputs": [],
   "source": [
    "import glob\n",
    "\n",
    "# ? matches any (1) character\n",
    "# will match apple.py, bpple.py, ...\n",
    "glob.glob('?pple.py')\n",
    "# any .py file with 5 characters\n",
    "glob.glob('?????.py')\n",
    "\n",
    "# * matches anything, irrespective of length\n",
    "# any .py file\n",
    "glob.glob('*.py')\n",
    "# any file containing .\n",
    "glob.glob('*.*')\n",
    "\n",
    "# any of the characters within [] matched\n",
    "# any .py file whose name starts with a or b or c\n",
    "glob.glob('[abc]*.py')\n",
    "# any .py file whose name does not starts with a or b\n",
    "glob.glob('[!ab]*.py')"
   ]
  },
  {
   "cell_type": "markdown",
   "metadata": {},
   "source": [
    "`glob` can be used to recursively search a directory:"
   ]
  },
  {
   "cell_type": "code",
   "execution_count": null,
   "metadata": {},
   "outputs": [],
   "source": [
    "# recursively (**) (folder within folder) search dir ('my/dir') to find all .py (*.py) files\n",
    "# include hidden files \n",
    "glob.glob('**/*.py',\n",
    "          root_dir='my/dir',\n",
    "          recursive=True,\n",
    "          include_hidden=True)"
   ]
  },
  {
   "cell_type": "markdown",
   "metadata": {},
   "source": [
    "`glob.iglob`: return an iterator which gives the same values as `glob.glob` without storing them simultaneously\n",
    "\n",
    "For large directories, this is faster and more memory efficient"
   ]
  },
  {
   "cell_type": "code",
   "execution_count": null,
   "metadata": {},
   "outputs": [],
   "source": [
    "globs = glob.iglob('**/*.py',\n",
    "                   root_dir='my/dir',\n",
    "                   recursive=True,\n",
    "                   include_hidden=True)\n",
    "\n",
    "# get files one by one\n",
    "print(globs.__next__())\n",
    "print(globs.__next__())\n",
    "\n",
    "# or you can iterate over it\n",
    "for i, file in enumerate(globs):\n",
    "    print(i, file)"
   ]
  },
  {
   "cell_type": "markdown",
   "metadata": {},
   "source": [
    "# Numerical and mathematical modules"
   ]
  },
  {
   "cell_type": "markdown",
   "metadata": {},
   "source": [
    "## `random`"
   ]
  },
  {
   "cell_type": "markdown",
   "metadata": {},
   "source": [
    "[https://docs.python.org/3/library/random.html](https://docs.python.org/3/library/random.html)\n",
    "\n",
    "> For integers, there is uniform selection from a range. For sequences, there is uniform selection of a random element, a function to generate a random permutation of a list in-place, and a function for random sampling without replacement.\n",
    "\n",
    "> On the real line, there are functions to compute uniform, normal (Gaussian), lognormal, negative exponential, gamma, and beta distributions. For generating distributions of angles, the von Mises distribution is available.\n",
    "\n",
    "> However, being completely deterministic, it is not suitable for all purposes, and is completely unsuitable for cryptographic purposes.\n",
    "\n",
    "[https://docs.python.org/3/library/random.html#examples](https://docs.python.org/3/library/random.html#examples)"
   ]
  },
  {
   "cell_type": "code",
   "execution_count": null,
   "metadata": {},
   "outputs": [],
   "source": [
    "import random\n",
    "random.random()\n",
    "random.uniform(0,1)\n",
    "random.randint(1,6)\n",
    "random.randint(0,1) # simulate coin toss\n"
   ]
  },
  {
   "cell_type": "code",
   "execution_count": null,
   "metadata": {},
   "outputs": [],
   "source": [
    "fruits = ['apple', 'banana', 'pear', 'nar', 'mango']\n",
    "random.choice(fruits) # single value"
   ]
  },
  {
   "cell_type": "code",
   "execution_count": null,
   "metadata": {},
   "outputs": [],
   "source": [
    "# simulate roulette wheel: 18 reds, 18 blacks, 2 greens\n",
    "colors = ['red', 'black', 'green']\n",
    "spin_results = random.choices(population=colors,\n",
    "                              weights=[18, 18, 2],\n",
    "                              k=10)"
   ]
  },
  {
   "cell_type": "code",
   "execution_count": null,
   "metadata": {},
   "outputs": [],
   "source": [
    "# shuffle a deck of cards\n",
    "deck = list(range(1, 53))\n",
    "deck = random.shuffle(deck)\n",
    "# pick a hand of 5 unique cards\n",
    "hand = random.sample(population=deck, k=5)"
   ]
  }
 ],
 "metadata": {
  "kernelspec": {
   "display_name": "Python 3",
   "language": "python",
   "name": "python3"
  },
  "language_info": {
   "name": "python",
   "version": "3.11.4"
  },
  "orig_nbformat": 4
 },
 "nbformat": 4,
 "nbformat_minor": 2
}
