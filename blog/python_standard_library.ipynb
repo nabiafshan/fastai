{
 "cells": [
  {
   "cell_type": "markdown",
   "metadata": {},
   "source": [
    "# The Python Standard Library"
   ]
  },
  {
   "cell_type": "markdown",
   "metadata": {},
   "source": [
    "## File and directory access"
   ]
  },
  {
   "cell_type": "markdown",
   "metadata": {},
   "source": [
    "### `glob`"
   ]
  },
  {
   "cell_type": "markdown",
   "metadata": {},
   "source": [
    "[python.org docs](https://docs.python.org/3/library/glob.html)\n",
    "\n",
    "[Video tutorial](https://www.youtube.com/watch?v=tATFQUx0Zx0)"
   ]
  },
  {
   "cell_type": "markdown",
   "metadata": {},
   "source": [
    "List of useful `glob` rules:"
   ]
  },
  {
   "cell_type": "code",
   "execution_count": null,
   "metadata": {},
   "outputs": [],
   "source": [
    "import glob\n",
    "\n",
    "# ? matches any (1) character\n",
    "# will match apple.py, bpple.py, ...\n",
    "glob.glob('?pple.py')\n",
    "# any .py file with 5 characters\n",
    "glob.glob('?????.py')\n",
    "\n",
    "# * matches anything, irrespective of length\n",
    "# any .py file\n",
    "glob.glob('*.py')\n",
    "# any file containing .\n",
    "glob.glob('*.*')\n",
    "\n",
    "# any of the characters within [] matched\n",
    "# any .py file whose name starts with a or b or c\n",
    "glob.glob('[abc]*.py')\n",
    "# any .py file whose name does not starts with a or b\n",
    "glob.glob('[!ab]*.py')"
   ]
  },
  {
   "cell_type": "markdown",
   "metadata": {},
   "source": [
    "`glob` can be used to recursively search a directory:"
   ]
  },
  {
   "cell_type": "code",
   "execution_count": null,
   "metadata": {},
   "outputs": [],
   "source": [
    "# recursively (**) (folder within folder) search dir ('my/dir') to find all .py (*.py) files\n",
    "# include hidden files \n",
    "glob.glob('**/*.py',\n",
    "          root_dir='my/dir',\n",
    "          recursive=True,\n",
    "          include_hidden=True)"
   ]
  },
  {
   "cell_type": "markdown",
   "metadata": {},
   "source": [
    "`glob.iglob`: return an iterator which gives the same values as `glob.glob` without storing them simultaneously\n",
    "\n",
    "For large directories, this is faster and more memory efficient"
   ]
  },
  {
   "cell_type": "code",
   "execution_count": null,
   "metadata": {},
   "outputs": [],
   "source": [
    "globs = glob.iglob('**/*.py',\n",
    "                   root_dir='my/dir',\n",
    "                   recursive=True,\n",
    "                   include_hidden=True)\n",
    "\n",
    "# get files one by one\n",
    "print(globs.__next__())\n",
    "print(globs.__next__())\n",
    "\n",
    "# or you can iterate over it\n",
    "for i, file in enumerate(globs):\n",
    "    print(i, file)"
   ]
  }
 ],
 "metadata": {
  "language_info": {
   "name": "python"
  },
  "orig_nbformat": 4
 },
 "nbformat": 4,
 "nbformat_minor": 2
}
