{
  "cells": [
    {
      "attachments": {},
      "cell_type": "markdown",
      "metadata": {
        "id": "QMAl2Z-3vDtj"
      },
      "source": [
        "# Quarto blog\n",
        "\n",
        "How to create a blog using quarto and github-pages"
      ]
    },
    {
      "cell_type": "markdown",
      "metadata": {
        "id": "IaWbBpsPvJu9"
      },
      "source": [
        "## Step 1: Create a repo\n"
      ]
    },
    {
      "cell_type": "markdown",
      "metadata": {
        "id": "wpHrN8ldvP3b"
      },
      "source": [
        "Here I'm creating a repo called `blog` for all my blogging needs."
      ]
    },
    {
      "cell_type": "markdown",
      "metadata": {
        "id": "L4K9RlWjlee9"
      },
      "source": [
        "<div>\n",
        "<img src=\"https://drive.google.com/uc?id=1BezTNTZeJ7IubVL4H8H_15TSzuu0JFXx\" width=\"400\"/>\n",
        "</div>\n"
      ]
    },
    {
      "cell_type": "markdown",
      "metadata": {
        "id": "pTrbIQeD2ZrJ"
      },
      "source": [
        "Download the repo to your local machine so you can add in files:\n",
        "\n",
        "* I like using Github Desktop for this. But whatever works for you. \n",
        "* Here's a tutorial on how to download code from github (aka cloning repos from github)"
      ]
    },
    {
      "cell_type": "markdown",
      "metadata": {
        "id": "EowEQC0wlo54"
      },
      "source": [
        "<div>\n",
        "<img src=\"https://drive.google.com/uc?id=1WQ-vljxmK_2K3G8dVcFToTg-xFYbJ0wd\" width=\"600\"/>\n",
        "</div>\n"
      ]
    },
    {
      "cell_type": "markdown",
      "metadata": {
        "id": "H6fW2XuM3UBV"
      },
      "source": [
        "Choose the destination path (`local path`) where you want your repo:\n",
        "\n",
        "* I'm choosing `Documents/GitHub/blog`"
      ]
    },
    {
      "cell_type": "markdown",
      "metadata": {
        "id": "5ykUSxIpl-2l"
      },
      "source": [
        "<div>\n",
        "<img src=\"https://drive.google.com/uc?id=1W8vFNMhv2mm0t28r69Th9C2FQb1BXSPD\" width=\"600\"/>\n",
        "</div>\n"
      ]
    },
    {
      "cell_type": "markdown",
      "metadata": {
        "id": "-3NGtVE-4alO"
      },
      "source": [
        "## Step 2: Create files for building website"
      ]
    },
    {
      "cell_type": "markdown",
      "metadata": {
        "id": "bqdRIl_94kQg"
      },
      "source": [
        "* Head over to https://quarto.org/docs/websites/\n",
        "\n",
        "* I prefer setting things up using the terminal.\n"
      ]
    },
    {
      "cell_type": "markdown",
      "metadata": {
        "id": "IRMAZ8b05F2P"
      },
      "source": [
        "As the docs say, you need to do the follwing:\n",
        "\n",
        "1. be in the parent folder of where your blog is. For me, this means being at `Documents/GitHub`\n",
        "2. run the command to create quarto's magic files in your blog: `quarto create-project blog --type website`\n",
        "3. run `quarto preview blog` to view the preview of the built in website\n"
      ]
    },
    {
      "cell_type": "markdown",
      "metadata": {
        "id": "qgPF-cw_mLDD"
      },
      "source": [
        "<div>\n",
        "<img src=\"https://drive.google.com/uc?id=1M_00h-01tBa5qeS8mxy_oZE2DLteTD2B\" width=\"400\"/>\n",
        "</div>\n",
        "\n",
        "<div>\n",
        "<img src=\"https://drive.google.com/uc?id=1_DNki3yFHlDIAcJqyKkU6zdQ0KSz1_2R\" width=\"400\"/>\n",
        "</div>\n",
        "\n",
        "<div>\n",
        "<img src=\"https://drive.google.com/uc?id=1UdG-Dge8ETGErm-DRgMM9zDGMqcNel1v\" width=\"400\"/>\n",
        "</div>\n",
        "\n"
      ]
    },
    {
      "cell_type": "markdown",
      "metadata": {
        "id": "fpYZXdrjL2g0"
      },
      "source": [
        "## Step 3: Make changes to `_quarto.yml`"
      ]
    },
    {
      "cell_type": "markdown",
      "metadata": {
        "id": "v4Wd6m88MKWm"
      },
      "source": [
        "* Here, I remove (comment out) the blue navigation bar `navbar` and add a sidebar instead.\n",
        "    * See the quarto docs on [`navbar`](https://quarto.org/docs/websites/website-navigation.html#top-navigation) and  [`sidebar`](https://quarto.org/docs/websites/website-navigation.html#side-navigation)\n",
        "\n",
        "* In the `sidebar`, I create 2 sections: `fastai` and `blog`.\n",
        "    * Under each section is `contents` where I put in the relative paths of notebooks I want to display under those sections.\n",
        "    * To keep this organized, I've created two separate folders `lessons` and `myblog`\n",
        "    * Whenever I need to add a new notebook:\n",
        "        * I can just download the notebook from Colab (or Kaggle)\n",
        "        * drop nb into the corresponding folder\n",
        "        * add a line under the correct section pointing to the nb's path\n",
        "\n"
      ]
    },
    {
      "cell_type": "markdown",
      "metadata": {
        "id": "LpCnfVZXmlkd"
      },
      "source": [
        "<div>\n",
        "<img src=\"https://drive.google.com/uc?id=1hRZKaHMR9PIl2bW30QEWXKwV50ByyCh8\" width=\"400\"/>\n",
        "</div>\n",
        "\n",
        "<div>\n",
        "<img src=\"https://drive.google.com/uc?id=1yGtsSH67S5IH1IFnPpAgf21_Zgdfy7lA\" width=\"200\"/>\n",
        "</div>\n"
      ]
    },
    {
      "cell_type": "markdown",
      "metadata": {
        "id": "JuRLsjbyPWAW"
      },
      "source": [
        "Using `quarto preview blog` in the terminal (as I did in the previous step, I can see what my website looks like:\n",
        "\n",
        "* the sidebar has 2 sections `fastai` and `blog`\n",
        "    * under each is a rendered nb"
      ]
    },
    {
      "cell_type": "markdown",
      "metadata": {
        "id": "r1cy7yrRm8Rj"
      },
      "source": [
        "<div>\n",
        "<img src=\"https://drive.google.com/uc?id=1qlHbIDGcgVhjvQoe0UeNR64hskv3Ak_Z\" width=\"600\"/>\n",
        "</div>\n"
      ]
    },
    {
      "cell_type": "markdown",
      "metadata": {
        "id": "BxdtnyyOQu97"
      },
      "source": [
        "## Step 4: Set up github pages"
      ]
    },
    {
      "cell_type": "markdown",
      "metadata": {
        "id": "K8k5i7kJQ2Tu"
      },
      "source": [
        "To complete this step, I used [github pages, publish command](https://quarto.org/docs/publishing/github-pages.html#publish-command) from the quarto documentation. "
      ]
    },
    {
      "cell_type": "markdown",
      "metadata": {
        "id": "zvujqCccVjoT"
      },
      "source": [
        "### Step 4.1 New branch called `gh-pages`"
      ]
    },
    {
      "cell_type": "markdown",
      "metadata": {
        "id": "mKbD-KoNUYtj"
      },
      "source": [
        "I use github desktop to do git related things:\n",
        "\n",
        "1. Commit changes to `main` branch\n",
        "2. Create a new branch called `gh-pages`"
      ]
    },
    {
      "cell_type": "markdown",
      "metadata": {
        "id": "R0vt58fvnHTj"
      },
      "source": [
        "<div>\n",
        "<img src=\"https://drive.google.com/uc?id=1g5s0kU5zn2VZ9mVMHOxlrHMkC4Gvjpdg\" height=\"400\"/>\n",
        "</div>\n",
        "\n",
        "<div>\n",
        "<img src=\"https://drive.google.com/uc?id=1o0rIZTKzWDD7hrJpB4_nZAMYfBV2iPgv\" height=\"400\"/>\n",
        "</div>\n"
      ]
    },
    {
      "cell_type": "markdown",
      "metadata": {
        "id": "68vGpkHKVKeb"
      },
      "source": [
        "3. Then go to github repo, check settings are okay. I didn't need to make any changes here."
      ]
    },
    {
      "cell_type": "markdown",
      "metadata": {
        "id": "Tmie9Nhvnc5j"
      },
      "source": [
        "<div>\n",
        "<img src=\"https://drive.google.com/uc?id=1kADp1SqJh6J9emwiLvwC5vfhu7H_givu\" height=\"400\"/>\n",
        "</div>\n"
      ]
    },
    {
      "cell_type": "markdown",
      "metadata": {
        "id": "uoIipLwIVpnp"
      },
      "source": [
        "### Step 4.2: Modify `.gitignore` "
      ]
    },
    {
      "cell_type": "markdown",
      "metadata": {
        "id": "9kqOj4SxnoOT"
      },
      "source": [
        "<div>\n",
        "<img src=\"https://drive.google.com/uc?id=1BkiN-9UXz-7DZL5WwkvffSpNXi6_REkR\" height=\"300\"/>\n",
        "</div>\n"
      ]
    },
    {
      "cell_type": "markdown",
      "metadata": {
        "id": "IyadXf4IZeFQ"
      },
      "source": [
        "* Move to the `main` branch, push all changes to remote\n"
      ]
    },
    {
      "cell_type": "markdown",
      "metadata": {
        "id": "U5Aafxl4nx7q"
      },
      "source": []
    },
    {
      "cell_type": "markdown",
      "metadata": {
        "id": "LcIV10LDnzk4"
      },
      "source": [
        "<div>\n",
        "<img src=\"https://drive.google.com/uc?id=1jYmS9XTPZsGGz9P9vi3WSQQDb1KcgADS\" height=\"400\"/>\n",
        "</div>\n"
      ]
    },
    {
      "cell_type": "markdown",
      "metadata": {
        "id": "j5anZuTmZZBl"
      },
      "source": [
        "## Step 5: Publish (while you're on `main` branch)!"
      ]
    },
    {
      "cell_type": "markdown",
      "metadata": {
        "id": "GKllZr6XbDbI"
      },
      "source": [
        "* Here's the quarto [documentation](https://quarto.org/docs/publishing/github-pages.html#publishing)\n",
        "\n",
        "* The rule seems to be that you make/push all changes in `main` branch. Use `gh-pages` branch only when you're using the command `quarto publish gh-pages`"
      ]
    },
    {
      "cell_type": "markdown",
      "metadata": {
        "id": "CQDosOM3n7dF"
      },
      "source": [
        "<div>\n",
        "<img src=\"https://drive.google.com/uc?id=1EvAIGFV07o9X9Gvd568MEiOqheE3M8ba\" height=\"200\"/>\n",
        "</div>\n"
      ]
    },
    {
      "cell_type": "markdown",
      "metadata": {
        "id": "K5s8kPuRbR0G"
      },
      "source": [
        "The final site looks like this:\n",
        "\n",
        "* From the address bar, you see this is hosted on github now"
      ]
    },
    {
      "cell_type": "markdown",
      "metadata": {
        "id": "rW3LedU_oFyS"
      },
      "source": [
        "<div>\n",
        "<img src=\"https://drive.google.com/uc?id=1Rk7gEwyfyGnc7Eo7TJHg-WVCn1NYrUvi\" height=\"300\"/>\n",
        "</div>\n"
      ]
    },
    {
      "cell_type": "markdown",
      "metadata": {
        "id": "UG43RJ7EoS7a"
      },
      "source": [
        "Aaaand it's done!\n",
        "\n",
        "You can view the site at https://nabiafshan.github.io/blog/\n",
        "\n",
        "It looks pretty good!"
      ]
    }
  ],
  "metadata": {
    "colab": {
      "provenance": [],
      "toc_visible": true
    },
    "kernelspec": {
      "display_name": "Python 3",
      "name": "python3"
    },
    "language_info": {
      "name": "python"
    }
  },
  "nbformat": 4,
  "nbformat_minor": 0
}
